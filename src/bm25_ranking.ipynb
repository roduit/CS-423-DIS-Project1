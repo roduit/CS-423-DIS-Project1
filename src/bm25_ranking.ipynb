{
 "cells": [
  {
   "cell_type": "code",
   "execution_count": 1,
   "metadata": {},
   "outputs": [],
   "source": [
    "from bm25 import *\n",
    "import pickle as pkl \n",
    "import numpy as np\n",
    "import pandas as pd\n",
    "from tqdm import tqdm"
   ]
  },
  {
   "cell_type": "code",
   "execution_count": 4,
   "metadata": {},
   "outputs": [],
   "source": [
    "#Load data\n",
    "#Data are excepted to be df with a column with tokenized text\n",
    "DOC_PATH = \"../data/pickles\"\n",
    "with open(os.path.join(DOC_PATH, \"test_tokenized.pkl\"), \"rb\") as file:\n",
    "    df_test_queries = pkl.load(file)\n",
    "with open(os.path.join(DOC_PATH, \"corpus.pkl\"), \"rb\") as file:\n",
    "    df_corpus = pkl.load(file)"
   ]
  },
  {
   "cell_type": "code",
   "execution_count": 10,
   "metadata": {},
   "outputs": [
    {
     "name": "stdout",
     "output_type": "stream",
     "text": [
      "Loading tokenized corpus from pickle\n"
     ]
    }
   ],
   "source": [
    "import pandas as pd\n",
    "from utils import *\n",
    "from processing import *\n",
    "df_corpus = pd.read_json(\"../data/corpus/corpus_reduced.json\")\n",
    "df_corpus,tokens_list = tokenize_documents('corpus_reduced', df_corpus)"
   ]
  },
  {
   "cell_type": "code",
   "execution_count": 2,
   "metadata": {},
   "outputs": [],
   "source": [
    "from utils import *\n",
    "df_corpus_vincent = load_data(\"df_corpus_vincent.pkl\")"
   ]
  },
  {
   "cell_type": "code",
   "execution_count": 3,
   "metadata": {},
   "outputs": [],
   "source": [
    "df_corpus_fabio = load_data(\"df_corpus_fabio.pkl\")"
   ]
  },
  {
   "cell_type": "code",
   "execution_count": 4,
   "metadata": {},
   "outputs": [],
   "source": [
    "df_corpus_yann = load_data(\"df_corpus_yann.pkl\")"
   ]
  },
  {
   "cell_type": "code",
   "execution_count": 5,
   "metadata": {},
   "outputs": [],
   "source": [
    "import pandas as pd\n",
    "df_corpus = pd.concat([df_corpus_vincent, df_corpus_fabio, df_corpus_yann], axis=0)"
   ]
  },
  {
   "cell_type": "code",
   "execution_count": 8,
   "metadata": {},
   "outputs": [],
   "source": [
    "df_corpus.drop(columns=['text'], inplace=True)"
   ]
  },
  {
   "cell_type": "code",
   "execution_count": 15,
   "metadata": {},
   "outputs": [],
   "source": [
    "save_data(df_corpus, \"corpus.pkl\")"
   ]
  },
  {
   "cell_type": "code",
   "execution_count": 14,
   "metadata": {},
   "outputs": [],
   "source": [
    "df_corpus.rename(columns={'tokenized':'tokens'}, inplace=True)"
   ]
  },
  {
   "cell_type": "code",
   "execution_count": 5,
   "metadata": {},
   "outputs": [],
   "source": [
    "#extract list of docid, lang and tokenized text from the corpus\n",
    "docid = df_corpus['docid'].tolist()\n",
    "lang = df_corpus['lang'].tolist()\n",
    "list_corpus = df_corpus[\"tokenized\"].tolist()\n",
    "#extract list of tokenized text and lang from the test queries\n",
    "list_test_queries = df_test_queries[\"tokenized\"].tolist()\n",
    "list_lang_test_queries = df_test_queries[\"lang\"].tolist()"
   ]
  },
  {
   "cell_type": "code",
   "execution_count": 8,
   "metadata": {},
   "outputs": [],
   "source": [
    "# Precompute BM25 parameters\n",
    "idf, tf, avg_doc_len, doc_len = BM25_preprocessing(list_corpus)"
   ]
  },
  {
   "cell_type": "code",
   "execution_count": null,
   "metadata": {},
   "outputs": [],
   "source": [
    "# Cell to retrieve the top 10 documents for each query, take approximatly 1h45 to run\n",
    "results = []\n",
    "\n",
    "# Loop over each query\n",
    "for idx, query in tqdm(enumerate(list_test_queries), total=len(list_test_queries), desc=\"Processing queries\"):\n",
    "    query_lang = list_lang_test_queries[idx]  # Get the language for the current query\n",
    "    \n",
    "    # Get the top 10 documents for the current query\n",
    "    top_docs = BM25_search(query, idf, tf, avg_doc_len, doc_len, docid, lang, target_lang=query_lang, k=10)\n",
    "    \n",
    "    # Append the result as a dictionary\n",
    "    results.append({\n",
    "        'id': idx,  # You may replace idx with actual query ID if available\n",
    "        'docids': top_docs\n",
    "    })\n",
    "\n",
    "results_df = pd.DataFrame(results)\n",
    "print(results_df)\n"
   ]
  },
  {
   "cell_type": "code",
   "execution_count": null,
   "metadata": {},
   "outputs": [],
   "source": [
    "results_df.to_csv('./first_bm25.csv', index=False)"
   ]
  }
 ],
 "metadata": {
  "kernelspec": {
   "display_name": "DIS",
   "language": "python",
   "name": "python3"
  },
  "language_info": {
   "codemirror_mode": {
    "name": "ipython",
    "version": 3
   },
   "file_extension": ".py",
   "mimetype": "text/x-python",
   "name": "python",
   "nbconvert_exporter": "python",
   "pygments_lexer": "ipython3",
   "version": "3.11.10"
  }
 },
 "nbformat": 4,
 "nbformat_minor": 2
}
