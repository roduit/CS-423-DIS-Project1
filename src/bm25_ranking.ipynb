{
 "cells": [
  {
   "cell_type": "code",
   "execution_count": 2,
   "metadata": {},
   "outputs": [],
   "source": [
    "from bm25 import *\n",
    "import pickle as pkl \n",
    "import numpy as np\n",
    "import pandas as pd\n",
    "from tqdm import tqdm"
   ]
  },
  {
   "cell_type": "code",
   "execution_count": 3,
   "metadata": {},
   "outputs": [],
   "source": [
    "#Load data\n",
    "#Data are excepted to be df with a column with tokenized text\n",
    "DOC_PATH = \"/Users/yanncretton/tokenized\"\n",
    "with open(os.path.join(DOC_PATH, \"test_queries.pkl\"), \"rb\") as file:\n",
    "    df_test_queries = pkl.load(file)\n",
    "with open(os.path.join(DOC_PATH, \"df_corpus_total.pkl\"), \"rb\") as file:\n",
    "    df_corpus = pkl.load(file)"
   ]
  },
  {
   "cell_type": "code",
   "execution_count": 5,
   "metadata": {},
   "outputs": [],
   "source": [
    "#extract list of docid, lang and tokenized text from the corpus\n",
    "docid = df_corpus['docid'].tolist()\n",
    "lang = df_corpus['lang'].tolist()\n",
    "list_corpus = df_corpus[\"tokenized\"].tolist()\n",
    "#extract list of tokenized text and lang from the test queries\n",
    "list_test_queries = df_test_queries[\"tokenized\"].tolist()\n",
    "list_lang_test_queries = df_test_queries[\"lang\"].tolist()"
   ]
  },
  {
   "cell_type": "code",
   "execution_count": 8,
   "metadata": {},
   "outputs": [],
   "source": [
    "# Precompute BM25 parameters\n",
    "idf, tf, avg_doc_len, doc_len = BM25_preprocessing(list_corpus)"
   ]
  },
  {
   "cell_type": "code",
   "execution_count": 11,
   "metadata": {},
   "outputs": [
    {
     "name": "stderr",
     "output_type": "stream",
     "text": [
      "Processing queries:  10%|▉         | 191/2000 [17:49<2:48:49,  5.60s/it]\n"
     ]
    },
    {
     "ename": "KeyboardInterrupt",
     "evalue": "",
     "output_type": "error",
     "traceback": [
      "\u001b[0;31m---------------------------------------------------------------------------\u001b[0m",
      "\u001b[0;31mKeyboardInterrupt\u001b[0m                         Traceback (most recent call last)",
      "Cell \u001b[0;32mIn[11], line 9\u001b[0m\n\u001b[1;32m      6\u001b[0m query_lang \u001b[38;5;241m=\u001b[39m list_lang_test_queries[idx]  \u001b[38;5;66;03m# Get the language for the current query\u001b[39;00m\n\u001b[1;32m      8\u001b[0m \u001b[38;5;66;03m# Get the top 10 documents for the current query\u001b[39;00m\n\u001b[0;32m----> 9\u001b[0m top_docs \u001b[38;5;241m=\u001b[39m \u001b[43mBM25_search\u001b[49m\u001b[43m(\u001b[49m\u001b[43mquery\u001b[49m\u001b[43m,\u001b[49m\u001b[43m \u001b[49m\u001b[43midf\u001b[49m\u001b[43m,\u001b[49m\u001b[43m \u001b[49m\u001b[43mtf\u001b[49m\u001b[43m,\u001b[49m\u001b[43m \u001b[49m\u001b[43mavg_doc_len\u001b[49m\u001b[43m,\u001b[49m\u001b[43m \u001b[49m\u001b[43mdoc_len\u001b[49m\u001b[43m,\u001b[49m\u001b[43m \u001b[49m\u001b[43mdocid\u001b[49m\u001b[43m,\u001b[49m\u001b[43m \u001b[49m\u001b[43mlang\u001b[49m\u001b[43m,\u001b[49m\u001b[43m \u001b[49m\u001b[43mtarget_lang\u001b[49m\u001b[38;5;241;43m=\u001b[39;49m\u001b[43mquery_lang\u001b[49m\u001b[43m,\u001b[49m\u001b[43m \u001b[49m\u001b[43mk\u001b[49m\u001b[38;5;241;43m=\u001b[39;49m\u001b[38;5;241;43m10\u001b[39;49m\u001b[43m)\u001b[49m\n\u001b[1;32m     11\u001b[0m \u001b[38;5;66;03m# Append the result as a dictionary\u001b[39;00m\n\u001b[1;32m     12\u001b[0m results\u001b[38;5;241m.\u001b[39mappend({\n\u001b[1;32m     13\u001b[0m     \u001b[38;5;124m'\u001b[39m\u001b[38;5;124mid\u001b[39m\u001b[38;5;124m'\u001b[39m: idx,  \u001b[38;5;66;03m# You may replace idx with actual query ID if available\u001b[39;00m\n\u001b[1;32m     14\u001b[0m     \u001b[38;5;124m'\u001b[39m\u001b[38;5;124mdocids\u001b[39m\u001b[38;5;124m'\u001b[39m: top_docs\n\u001b[1;32m     15\u001b[0m })\n",
      "File \u001b[0;32m~/CS-423-DIS-Project1/src/bm25.py:75\u001b[0m, in \u001b[0;36mBM25_search\u001b[0;34m(query, idf, tf, avg_doc_len, doc_len, docid, lang, target_lang, k)\u001b[0m\n\u001b[1;32m     73\u001b[0m scores \u001b[38;5;241m=\u001b[39m []\n\u001b[1;32m     74\u001b[0m \u001b[38;5;28;01mfor\u001b[39;00m i \u001b[38;5;129;01min\u001b[39;00m relevant_docs:\n\u001b[0;32m---> 75\u001b[0m     score \u001b[38;5;241m=\u001b[39m \u001b[43mBM25_score\u001b[49m\u001b[43m(\u001b[49m\u001b[43mquery\u001b[49m\u001b[43m,\u001b[49m\u001b[43m \u001b[49m\u001b[43mi\u001b[49m\u001b[43m,\u001b[49m\u001b[43m \u001b[49m\u001b[43midf\u001b[49m\u001b[43m,\u001b[49m\u001b[43m \u001b[49m\u001b[43mtf\u001b[49m\u001b[43m,\u001b[49m\u001b[43m \u001b[49m\u001b[43mavg_doc_len\u001b[49m\u001b[43m,\u001b[49m\u001b[43m \u001b[49m\u001b[43mdoc_len\u001b[49m\u001b[43m)\u001b[49m\n\u001b[1;32m     76\u001b[0m     scores\u001b[38;5;241m.\u001b[39mappend((score, docid[i]))\n\u001b[1;32m     78\u001b[0m \u001b[38;5;66;03m# Sort and get top-k documents by score\u001b[39;00m\n",
      "File \u001b[0;32m~/CS-423-DIS-Project1/src/bm25.py:59\u001b[0m, in \u001b[0;36mBM25_score\u001b[0;34m(query, document_id, idf, tf, avg_doc_len, doc_len, k1, b)\u001b[0m\n\u001b[1;32m     57\u001b[0m length_norm \u001b[38;5;241m=\u001b[39m k1 \u001b[38;5;241m*\u001b[39m (\u001b[38;5;241m1\u001b[39m \u001b[38;5;241m-\u001b[39m b \u001b[38;5;241m+\u001b[39m b \u001b[38;5;241m*\u001b[39m doc_length \u001b[38;5;241m/\u001b[39m avg_doc_len)  \u001b[38;5;66;03m# Precompute normalization factor\u001b[39;00m\n\u001b[1;32m     58\u001b[0m \u001b[38;5;28;01mfor\u001b[39;00m term \u001b[38;5;129;01min\u001b[39;00m \u001b[38;5;28mset\u001b[39m(query):  \u001b[38;5;66;03m# Use set to avoid redundant term checks\u001b[39;00m\n\u001b[0;32m---> 59\u001b[0m     \u001b[38;5;28;01mif\u001b[39;00m document_id \u001b[38;5;129;01min\u001b[39;00m tf \u001b[38;5;129;01mand\u001b[39;00m \u001b[43mterm\u001b[49m\u001b[43m \u001b[49m\u001b[38;5;129;43;01min\u001b[39;49;00m\u001b[43m \u001b[49m\u001b[43mtf\u001b[49m\u001b[43m[\u001b[49m\u001b[43mdocument_id\u001b[49m\u001b[43m]\u001b[49m:\n\u001b[1;32m     60\u001b[0m         idf_term \u001b[38;5;241m=\u001b[39m idf\u001b[38;5;241m.\u001b[39mget(term, \u001b[38;5;241m0\u001b[39m)  \u001b[38;5;66;03m# Use .get() to handle missing terms\u001b[39;00m\n\u001b[1;32m     61\u001b[0m         tf_term \u001b[38;5;241m=\u001b[39m tf[document_id][term]\n",
      "\u001b[0;31mKeyboardInterrupt\u001b[0m: "
     ]
    }
   ],
   "source": [
    "# Cell to retrieve the top 10 documents for each query, take approximatly 1h45 to run\n",
    "results = []\n",
    "\n",
    "# Loop over each query\n",
    "for idx, query in tqdm(enumerate(list_test_queries), total=len(list_test_queries), desc=\"Processing queries\"):\n",
    "    query_lang = list_lang_test_queries[idx]  # Get the language for the current query\n",
    "    \n",
    "    # Get the top 10 documents for the current query\n",
    "    top_docs = BM25_search(query, idf, tf, avg_doc_len, doc_len, docid, lang, target_lang=query_lang, k=10)\n",
    "    \n",
    "    # Append the result as a dictionary\n",
    "    results.append({\n",
    "        'id': idx,  # You may replace idx with actual query ID if available\n",
    "        'docids': top_docs\n",
    "    })\n",
    "\n",
    "results_df = pd.DataFrame(results)\n",
    "print(results_df)\n"
   ]
  },
  {
   "cell_type": "code",
   "execution_count": null,
   "metadata": {},
   "outputs": [],
   "source": [
    "results_df.to_csv('./first_bm25.csv', index=False)"
   ]
  }
 ],
 "metadata": {
  "kernelspec": {
   "display_name": "machinelearning",
   "language": "python",
   "name": "python3"
  },
  "language_info": {
   "codemirror_mode": {
    "name": "ipython",
    "version": 3
   },
   "file_extension": ".py",
   "mimetype": "text/x-python",
   "name": "python",
   "nbconvert_exporter": "python",
   "pygments_lexer": "ipython3",
   "version": "3.8.19"
  }
 },
 "nbformat": 4,
 "nbformat_minor": 2
}
